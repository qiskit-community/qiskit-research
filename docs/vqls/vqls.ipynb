{
 "cells": [
  {
   "cell_type": "code",
   "execution_count": null,
   "metadata": {},
   "outputs": [],
   "source": [
    "from qiskit_research.vqls import VQLS\n",
    "from qiskit.circuit.library.n_local.real_amplitudes import RealAmplitudes\n",
    "from qiskit.algorithms.optimizers import COBYLA\n",
    "from qiskit import Aer\n",
    "import numpy as np"
   ]
  },
  {
   "cell_type": "markdown",
   "metadata": {},
   "source": [
    "# Variational Quantum Linear Solver\n",
    "\n",
    "The VQLS is an hybrod variational method to solve linear systems \n",
    "\n",
    "$$\n",
    "A \\cdot x = b\n",
    "$$\n",
    "\n",
    "where $A$ is a square (symmetric) matrix and $b$ the solution vector. The matrix $A$ should be expressed as a sum of unitary matrices :\n",
    "\n",
    "$$\n",
    "A = \\sum_n c_n A_n\n",
    "$$\n",
    "\n",
    "VQLS soves for $x$ by creating a variational ansatz $|\\Psi(\\theta)\\rangle = V(\\theta)|0\\rangle$ and a transformation $U$ such as $|b\\rangle U|0\\rangle$. The solution vector $|x\\rangle$ is then obtained by optimizing the parameters $\\theta$ to minimize the cost function :\n",
    "\n",
    "$$\n",
    "C = \\langle \\psi(\\theta) A^\\dagger | (\\mathbb{I} - |b\\rangle\\langle b|) | A \\psi(\\theta) \\rangle\n",
    "$$\n",
    "\n",
    "A great tutorial on VQLS can be found on the qiskit [documentation](https://qiskit.org/textbook/ch-paper-implementations/vqls.html), and more details can be found in the original [article](https://arxiv.org/abs/1909.05820)"
   ]
  },
  {
   "cell_type": "markdown",
   "metadata": {},
   "source": [
    "# Define the system\n",
    "Let's start by creating a random symmetric 4x4 matrix $A$"
   ]
  },
  {
   "cell_type": "code",
   "execution_count": null,
   "metadata": {},
   "outputs": [],
   "source": [
    "A = np.random.rand(4, 4)\n",
    "A = A + A.T"
   ]
  },
  {
   "cell_type": "markdown",
   "metadata": {},
   "source": [
    "and a random solution vector $b$"
   ]
  },
  {
   "cell_type": "code",
   "execution_count": null,
   "metadata": {},
   "outputs": [],
   "source": [
    "b = np.random.rand(4)"
   ]
  },
  {
   "cell_type": "markdown",
   "metadata": {},
   "source": [
    "We can use the `NumpyLinearSolver` class to obtain the solution of this very simple system"
   ]
  },
  {
   "cell_type": "code",
   "execution_count": null,
   "metadata": {},
   "outputs": [],
   "source": [
    "from qiskit.algorithms.linear_solvers.numpy_linear_solver import NumPyLinearSolver\n",
    "\n",
    "classical_solution = NumPyLinearSolver().solve(A, b / np.linalg.norm(b))"
   ]
  },
  {
   "cell_type": "markdown",
   "metadata": {},
   "source": [
    "# Define the variational ansatz\n",
    "Qiskit contains a series of variational circtuits that can be used to define variational ansatz. We will use here the so-called `RealAmplitude` circuit. Since our matrix is 4x4 we will use 2 qbits."
   ]
  },
  {
   "cell_type": "code",
   "execution_count": null,
   "metadata": {},
   "outputs": [],
   "source": [
    "ansatz = RealAmplitudes(2, entanglement=\"full\", reps=3, insert_barriers=False)"
   ]
  },
  {
   "cell_type": "markdown",
   "metadata": {},
   "source": [
    "We can now call the VQLS class to initialize the solver. We use here a statevector backend to obtain very accurate results"
   ]
  },
  {
   "cell_type": "code",
   "execution_count": null,
   "metadata": {},
   "outputs": [],
   "source": [
    "vqls = VQLS(\n",
    "    ansatz=ansatz,\n",
    "    optimizer=COBYLA(maxiter=200, disp=True),\n",
    "    quantum_instance=Aer.get_backend(\"aer_simulator_statevector\"),\n",
    ")"
   ]
  },
  {
   "cell_type": "markdown",
   "metadata": {},
   "source": [
    "We can then use the solver to obtain the solution of the linear system"
   ]
  },
  {
   "cell_type": "code",
   "execution_count": null,
   "metadata": {},
   "outputs": [],
   "source": [
    "res = vqls.solve(A, b)"
   ]
  },
  {
   "cell_type": "markdown",
   "metadata": {},
   "source": [
    "The accuracy of the solution obtained with the VQLS solver can be estimated by comparing the solution vectors obtained with VQLS and the numpy solver"
   ]
  },
  {
   "cell_type": "code",
   "execution_count": null,
   "metadata": {},
   "outputs": [],
   "source": [
    "from qiskit.quantum_info import Statevector\n",
    "import matplotlib.pyplot as plt\n",
    "\n",
    "ref_solution = classical_solution.state / np.linalg.norm(classical_solution.state)\n",
    "vqls_solution = np.real(Statevector(res.state).data)\n",
    "\n",
    "\n",
    "plt.scatter(ref_solution, vqls_solution)\n",
    "plt.plot([-1, 1], [-1, 1], \"--\")"
   ]
  }
 ],
 "metadata": {
  "kernelspec": {
   "display_name": "Python 3.8.0 ('qiskit_dev')",
   "language": "python",
   "name": "python3"
  },
  "language_info": {
   "codemirror_mode": {
    "name": "ipython",
    "version": 3
   },
   "file_extension": ".py",
   "mimetype": "text/x-python",
   "name": "python",
   "nbconvert_exporter": "python",
   "pygments_lexer": "ipython3",
   "version": "3.8.0"
  },
  "orig_nbformat": 4,
  "vscode": {
   "interpreter": {
    "hash": "f22efb95f768d3ffbe68a580a07852b1659f82fde3ba29cedd0f436aa6c30e49"
   }
  }
 },
 "nbformat": 4,
 "nbformat_minor": 2
}
