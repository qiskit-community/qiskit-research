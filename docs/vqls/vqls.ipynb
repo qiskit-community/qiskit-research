{
 "cells": [
  {
   "cell_type": "code",
   "execution_count": 1,
   "metadata": {},
   "outputs": [],
   "source": [
    "from qiskit_research.vqls import VQLS\n",
    "from qiskit.circuit.library.n_local.real_amplitudes import RealAmplitudes\n",
    "from qiskit.algorithms.optimizers import COBYLA\n",
    "from qiskit import Aer\n",
    "import numpy as np"
   ]
  },
  {
   "cell_type": "markdown",
   "metadata": {},
   "source": [
    "# Variational Linear Solver"
   ]
  },
  {
   "cell_type": "code",
   "execution_count": 2,
   "metadata": {},
   "outputs": [],
   "source": [
    "A = np.random.rand(4,4)\n",
    "A = (A+A.T)\n",
    "b = np.random.rand(4)"
   ]
  },
  {
   "cell_type": "code",
   "execution_count": 3,
   "metadata": {},
   "outputs": [],
   "source": [
    "from qiskit.algorithms.linear_solvers.numpy_linear_solver import NumPyLinearSolver\n",
    "classical_solution = NumPyLinearSolver().solve(A,b/np.linalg.norm(b))"
   ]
  },
  {
   "cell_type": "code",
   "execution_count": 4,
   "metadata": {},
   "outputs": [
    {
     "data": {
      "image/png": "[encoded data removed]",
      "text/plain": [
       "<Figure size 507.852x144.48 with 1 Axes>"
      ]
     },
     "execution_count": 4,
     "metadata": {},
     "output_type": "execute_result"
    }
   ],
   "source": [
    "backend = Aer.get_backend('aer_simulator_statevector')\n",
    "ansatz = RealAmplitudes(2, entanglement='full', reps=3, insert_barriers=False)\n",
    "vqls  = VQLS(\n",
    "    ansatz=ansatz,\n",
    "    optimizer=COBYLA(maxiter=200, disp=True),\n",
    "    quantum_instance=backend\n",
    ")\n",
    "vqls.ansatz.decompose().draw('mpl')"
   ]
  },
  {
   "cell_type": "code",
   "execution_count": 5,
   "metadata": {},
   "outputs": [
    {
     "name": "stdout",
     "output_type": "stream",
     "text": [
      "Cost function 0.786168\n",
      "Cost function 0.998308\n",
      "Cost function 0.147771\n",
      "Cost function 0.159450\n",
      "Cost function 0.352193\n",
      "Cost function 0.157252\n",
      "Cost function 0.331879\n",
      "Cost function 0.147353\n",
      "Cost function 0.440996\n",
      "Cost function 0.147415\n",
      "Cost function 0.138837\n",
      "Cost function 0.139754\n",
      "Cost function 0.141885\n",
      "Cost function 0.139189\n",
      "Cost function 0.139243\n",
      "Cost function 0.139462\n",
      "Cost function 0.141791\n",
      "Cost function 0.139990\n",
      "Cost function 0.141679\n",
      "Cost function 0.136090\n",
      "Cost function 0.136210\n",
      "Cost function 0.136582\n",
      "Cost function 0.312391\n",
      "Cost function 0.138426\n",
      "Cost function 0.136283\n",
      "Cost function 0.136212\n",
      "Cost function 0.135684\n",
      "Cost function 0.135553\n",
      "Cost function 0.136033\n",
      "Cost function 0.135447\n",
      "Cost function 0.135807\n",
      "Cost function 0.135498\n",
      "Cost function 0.134825\n",
      "Cost function 0.134694\n",
      "Cost function 0.133420\n",
      "Cost function 0.131600\n",
      "Cost function 0.137161\n",
      "Cost function 0.131890\n",
      "Cost function 0.135796\n",
      "Cost function 0.131845\n",
      "Cost function 0.136160\n",
      "Cost function 0.131501\n",
      "Cost function 0.135886\n",
      "Cost function 0.133654\n",
      "Cost function 0.131788\n",
      "Cost function 0.131016\n",
      "Cost function 0.130898\n",
      "Cost function 0.131320\n",
      "Cost function 0.132796\n",
      "Cost function 0.129403\n",
      "Cost function 0.127464\n",
      "Cost function 0.125797\n",
      "Cost function 0.124124\n",
      "Cost function 0.125505\n",
      "Cost function 0.125245\n",
      "Cost function 0.122709\n",
      "Cost function 0.122558\n",
      "Cost function 0.120995\n",
      "Cost function 0.118184\n",
      "Cost function 0.117253\n",
      "Cost function 0.116919\n",
      "Cost function 0.120322\n",
      "Cost function 0.116731\n",
      "Cost function 0.116375\n",
      "Cost function 0.114925\n",
      "Cost function 0.115596\n",
      "Cost function 0.114139\n",
      "Cost function 0.120547\n",
      "Cost function 0.113970\n",
      "Cost function 0.113876\n",
      "Cost function 0.114296\n",
      "Cost function 0.113947\n",
      "Cost function 0.114266\n",
      "Cost function 0.114917\n",
      "Cost function 0.110707\n",
      "Cost function 0.107733\n",
      "Cost function 0.106032\n",
      "Cost function 0.113858\n",
      "Cost function 0.105600\n",
      "Cost function 0.104010\n",
      "Cost function 0.104338\n",
      "Cost function 0.104067\n",
      "Cost function 0.103070\n",
      "Cost function 0.104153\n",
      "Cost function 0.103531\n",
      "Cost function 0.101805\n",
      "Cost function 0.102585\n",
      "Cost function 0.101788\n",
      "Cost function 0.099851\n",
      "Cost function 0.097717\n",
      "Cost function 0.096083\n",
      "Cost function 0.094472\n",
      "Cost function 0.092088\n",
      "Cost function 0.089777\n",
      "Cost function 0.086612\n",
      "Cost function 0.083733\n",
      "Cost function 0.081364\n",
      "Cost function 0.078332\n",
      "Cost function 0.076295\n",
      "Cost function 0.072179\n",
      "Cost function 0.070493\n",
      "Cost function 0.065161\n",
      "Cost function 0.067396\n",
      "Cost function 0.065538\n",
      "Cost function 0.063322\n",
      "Cost function 0.058510\n",
      "Cost function 0.057086\n",
      "Cost function 0.058235\n",
      "Cost function 0.056138\n",
      "Cost function 0.058172\n",
      "Cost function 0.055007\n",
      "Cost function 0.058492\n",
      "Cost function 0.054292\n",
      "Cost function 0.060991\n",
      "Cost function 0.061406\n",
      "Cost function 0.054982\n",
      "Cost function 0.053908\n",
      "Cost function 0.053837\n",
      "Cost function 0.055829\n",
      "Cost function 0.050538\n",
      "Cost function 0.048742\n",
      "Cost function 0.052696\n",
      "Cost function 0.049079\n",
      "Cost function 0.045157\n",
      "Cost function 0.051297\n",
      "Cost function 0.045076\n",
      "Cost function 0.043416\n",
      "Cost function 0.039256\n",
      "Cost function 0.037370\n",
      "Cost function 0.034159\n",
      "Cost function 0.033840\n",
      "Cost function 0.033464\n",
      "Cost function 0.034090\n",
      "Cost function 0.033369\n",
      "Cost function 0.031623\n",
      "Cost function 0.031600\n",
      "Cost function 0.031620\n",
      "Cost function 0.029555\n",
      "Cost function 0.028927\n",
      "Cost function 0.026387\n",
      "Cost function 0.025183\n",
      "Cost function 0.028891\n",
      "Cost function 0.025077\n",
      "Cost function 0.027203\n",
      "Cost function 0.027895\n",
      "Cost function 0.024676\n",
      "Cost function 0.023418\n",
      "Cost function 0.020742\n",
      "Cost function 0.020419\n",
      "Cost function 0.023580\n",
      "Cost function 0.019265\n",
      "Cost function 0.020696\n",
      "Cost function 0.017580\n",
      "Cost function 0.016498\n",
      "Cost function 0.016458\n",
      "Cost function 0.018270\n",
      "Cost function 0.018215\n",
      "Cost function 0.013700\n",
      "Cost function 0.014851\n",
      "Cost function 0.014406\n",
      "Cost function 0.019522\n",
      "Cost function 0.013953\n",
      "Cost function 0.021842\n",
      "Cost function 0.014549\n",
      "Cost function 0.014192\n",
      "Cost function 0.012989\n",
      "Cost function 0.013641\n",
      "Cost function 0.012307\n",
      "Cost function 0.011033\n",
      "Cost function 0.009388\n",
      "Cost function 0.008236\n",
      "Cost function 0.007240\n",
      "Cost function 0.005982\n",
      "Cost function 0.005069\n",
      "Cost function 0.006474\n",
      "Cost function 0.005277\n",
      "Cost function 0.004850\n",
      "Cost function 0.004874\n",
      "Cost function 0.006803\n",
      "Cost function 0.004954\n",
      "Cost function 0.005059\n",
      "Cost function 0.005387\n",
      "Cost function 0.005151\n",
      "Cost function 0.004847\n",
      "Cost function 0.005473\n",
      "Cost function 0.004040\n",
      "Cost function 0.003937\n",
      "Cost function 0.003898\n",
      "Cost function 0.003824\n",
      "Cost function 0.003799\n",
      "Cost function 0.003768\n",
      "Cost function 0.003816\n",
      "Cost function 0.003638\n",
      "Cost function 0.002834\n",
      "Cost function 0.003698\n",
      "Cost function 0.002832\n",
      "Cost function 0.003053\n",
      "Cost function 0.002835\n",
      "Cost function 0.002913\n",
      "Cost function 0.002846\n"
     ]
    }
   ],
   "source": [
    "res = vqls.solve(A,b)"
   ]
  },
  {
   "cell_type": "code",
   "execution_count": 7,
   "metadata": {},
   "outputs": [
    {
     "data": {
      "text/plain": [
       "[<matplotlib.lines.Line2D at 0x7fc34287dbb0>]"
      ]
     },
     "execution_count": 7,
     "metadata": {},
     "output_type": "execute_result"
    },
    {
     "data": {
      "image/png": "[encoded data removed]",
      "text/plain": [
       "<Figure size 432x288 with 1 Axes>"
      ]
     },
     "metadata": {
      "needs_background": "light"
     },
     "output_type": "display_data"
    }
   ],
   "source": [
    "from qiskit.quantum_info import Statevector \n",
    "import matplotlib.pyplot as plt\n",
    "ref_solution = classical_solution.state / np.linalg.norm(classical_solution.state) \n",
    "vqls_solution = np.real(Statevector(res.state).data )\n",
    "\n",
    "\n",
    "plt.scatter(ref_solution, vqls_solution)\n",
    "plt.plot([-1,1],[-1,1],'--')"
   ]
  },
  {
   "cell_type": "code",
   "execution_count": 8,
   "metadata": {},
   "outputs": [
    {
     "name": "stdout",
     "output_type": "stream",
     "text": [
      "[0.91580142 0.76373378 0.78265317 0.73945564]\n"
     ]
    }
   ],
   "source": [
    "print(b)"
   ]
  },
  {
   "cell_type": "code",
   "execution_count": null,
   "metadata": {},
   "outputs": [],
   "source": []
  }
 ],
 "metadata": {
  "kernelspec": {
   "display_name": "Python 3.8.0 ('qiskit_dev')",
   "language": "python",
   "name": "python3"
  },
  "language_info": {
   "codemirror_mode": {
    "name": "ipython",
    "version": 3
   },
   "file_extension": ".py",
   "mimetype": "text/x-python",
   "name": "python",
   "nbconvert_exporter": "python",
   "pygments_lexer": "ipython3",
   "version": "3.8.0"
  },
  "orig_nbformat": 4,
  "vscode": {
   "interpreter": {
    "hash": "f22efb95f768d3ffbe68a580a07852b1659f82fde3ba29cedd0f436aa6c30e49"
   }
  }
 },
 "nbformat": 4,
 "nbformat_minor": 2
}
