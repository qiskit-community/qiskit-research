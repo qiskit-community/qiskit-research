{
 "cells": [
  {
   "cell_type": "code",
   "execution_count": null,
   "metadata": {},
   "outputs": [],
   "source": [
    "from qiskit_ibm_runtime import QiskitRuntimeService\n",
    "import numpy as np\n",
    "from qiskit.circuit.library.n_local.real_amplitudes import RealAmplitudes\n",
    "from qiskit_research.vqls.runtime import vqls_runner\n",
    "from qiskit_research.vqls.runtime.upload_runtime_program import get_metadata"
   ]
  },
  {
   "cell_type": "markdown",
   "metadata": {},
   "source": [
    "# VQLS through runtime\n",
    "\n",
    "Like all hyrid algorithm, VQLS requires communication between the quantum processor that computes the components of the cost function and a classical processor that assembles the cost function and update the variational parameters. \n",
    "\n",
    "The orchestration of such calculation is done through the runtime library of IBMQ. To start a run time session we need to lauch the service. "
   ]
  },
  {
   "cell_type": "code",
   "execution_count": null,
   "metadata": {},
   "outputs": [],
   "source": [
    "# ibmq_token = \"\"\n",
    "# hub = \"\"\n",
    "# group = \"\"  # examnple 'escience'\n",
    "# project = \"\"  # example qradio\n",
    "\n",
    "# QiskitRuntimeService.save_account(\n",
    "#     channel=\"ibm_quantum\",\n",
    "#     token=ibmq_token,\n",
    "#     instance=hub + \"/\" + group + \"/\" + project,\n",
    "#     overwrite=True,\n",
    "# )\n",
    "\n",
    "# service = QiskitRuntimeService()"
   ]
  },
  {
   "cell_type": "markdown",
   "metadata": {},
   "source": [
    "# Define the system and the ansatz\n",
    "As for the local execution of the algorithm we need to define the matrix $A$ of the linear system, the right hand side of the equation $b$. We also need to define the variational ansatz we want to use to solve the system."
   ]
  },
  {
   "cell_type": "code",
   "execution_count": null,
   "metadata": {},
   "outputs": [],
   "source": [
    "# define a symmetric 4x4 matrix\n",
    "A = np.random.rand(4, 4)\n",
    "A = A + A.T\n",
    "\n",
    "# define the right habd side\n",
    "b = np.random.rand(4)\n",
    "\n",
    "# define the ansatz\n",
    "ansatz = RealAmplitudes(2, entanglement=\"full\", reps=3, insert_barriers=False)"
   ]
  },
  {
   "cell_type": "markdown",
   "metadata": {},
   "source": [
    "# Uploading the runtime program\n",
    "At the difference of the local execution, a runtime execution requires a program stored on IBMQ to run the calculation. You therefore need to upload the code to your IBMQ account. This program can be found at `qiskit_research/vqls/runtime/vqls_runtime_program.py`. "
   ]
  },
  {
   "cell_type": "code",
   "execution_count": null,
   "metadata": {},
   "outputs": [],
   "source": [
    "# path = \"path/to/vqls_runtime_program.py\"\n",
    "# program_id = service.upload_program(data=path, metadata=get_metadata())\n",
    "# print(\"Program token:\", program_id)"
   ]
  },
  {
   "cell_type": "markdown",
   "metadata": {},
   "source": [
    "# Running the runtime program\n",
    "Once the program is uploaded you can use the `vqls_runner` to submit your runtime code to the backend of your choice. We use here the `simulator_statevector` but you might have access to more backend."
   ]
  },
  {
   "cell_type": "code",
   "execution_count": null,
   "metadata": {},
   "outputs": [],
   "source": [
    "# backend = service.backend(\"simulator_statevector\")\n",
    "# job = vqls_runner(backend, A, b, program_id, ansatz, shots=25000)\n",
    "# res = job.result()"
   ]
  },
  {
   "cell_type": "markdown",
   "metadata": {},
   "source": [
    "Once the program has finished its execution we can retreive the solution statevector as follow"
   ]
  },
  {
   "cell_type": "code",
   "execution_count": null,
   "metadata": {},
   "outputs": [],
   "source": [
    "# from qiskit.quantum_info import Statevector\n",
    "\n",
    "# # extract the optimal parameters and assign them to the ansatz\n",
    "# opt_parameters = dict(zip(ansatz.parameters, res.x))\n",
    "# solution = ansatz.assign_parameters(opt_parameters)\n",
    "\n",
    "# # compute the vqls solution\n",
    "# vqls_solution = np.real(Statevector(solution).data)"
   ]
  },
  {
   "cell_type": "markdown",
   "metadata": {},
   "source": [
    "# Classical Solution\n",
    "We can now comapred our solution with a classical solver"
   ]
  },
  {
   "cell_type": "code",
   "execution_count": null,
   "metadata": {},
   "outputs": [],
   "source": [
    "# import matplotlib.pyplot as plt\n",
    "# from qiskit.algorithms.linear_solvers.numpy_linear_solver import NumPyLinearSolver\n",
    "\n",
    "# classical_solution = NumPyLinearSolver().solve(A, b / np.linalg.norm(b))\n",
    "# ref_solution = classical_solution.state / np.linalg.norm(classical_solution.state)\n",
    "\n",
    "# plt.scatter(ref_solution, vqls_solution)\n",
    "# plt.plot([-1, 1], [-1, 1], \"--\")"
   ]
  },
  {
   "cell_type": "markdown",
   "metadata": {},
   "source": [
    "# Retreive Solution\n",
    "The solution of a previously calculated runtime session can be retreive from the backend and a job token"
   ]
  },
  {
   "cell_type": "code",
   "execution_count": null,
   "metadata": {},
   "outputs": [],
   "source": [
    "# from qiskit import IBMQ\n",
    "\n",
    "# job_token = \"\"\n",
    "\n",
    "# IBMQ.save_account(ibmq_token)\n",
    "# provider = IBMQ.load_account()\n",
    "# backend = provider.get_backend(\"simulator_statevector\")\n",
    "# job = backend.retrieve_job(job_token)"
   ]
  }
 ],
 "metadata": {
  "kernelspec": {
   "display_name": "Python 3.8.0 ('qiskit_dev')",
   "language": "python",
   "name": "python3"
  },
  "language_info": {
   "codemirror_mode": {
    "name": "ipython",
    "version": 3
   },
   "file_extension": ".py",
   "mimetype": "text/x-python",
   "name": "python",
   "nbconvert_exporter": "python",
   "pygments_lexer": "ipython3",
   "version": "3.8.0"
  },
  "orig_nbformat": 4,
  "vscode": {
   "interpreter": {
    "hash": "f22efb95f768d3ffbe68a580a07852b1659f82fde3ba29cedd0f436aa6c30e49"
   }
  }
 },
 "nbformat": 4,
 "nbformat_minor": 2
}
